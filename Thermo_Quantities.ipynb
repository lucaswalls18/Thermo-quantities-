{
  "nbformat": 4,
  "nbformat_minor": 0,
  "metadata": {
    "colab": {
      "provenance": []
    },
    "kernelspec": {
      "name": "python3",
      "display_name": "Python 3"
    },
    "language_info": {
      "name": "python"
    }
  },
  "cells": [
    {
      "cell_type": "markdown",
      "source": [
        "This notebook eplores thermodynamic quantities using jupyter technology. As you read through the text, you can execute the code blocks. You can change input (for example, choose different axis ranges or scaling or select different species to show in the plots). You can right-click or control-click on figures to save them. If your current version gets corrupted, don't worry. Simply quit and download a new copy from GitHub, or start up a new version on Google Colab or Binder\n",
        "\n",
        "##Table of Contents \n",
        "[Introduction](#a)<br/>\n",
        "[Loading in the data](#b)<br/>\n",
        "[Plotting the electric chemical potential](#c)<br/>\n",
        "[Plotting pressure components](#d)<br/>\n",
        "[Plotting entropy](#e)<br/>"
      ],
      "metadata": {
        "id": "GhjW9gILJaXU"
      }
    },
    {
      "cell_type": "markdown",
      "source": [
        "<a id='a'></a>\n",
        "#Introduction \n",
        "\n"
      ],
      "metadata": {
        "id": "F6SAzTmIZl9G"
      }
    },
    {
      "cell_type": "markdown",
      "source": [
        "For low mass stars, ($<10$ $M_\\odot$) main-sequence nuclear fusion terminates with core Helium burning. After this phase,\n",
        " the star will contract and increase in pressure but not reach a high enough temperature to begin the next nuclear burning phase. If conditions occur that allow the star to tap into the remaining nuclear fuel of Carbon and Oxygen, then the star experiences a thermonuclear runaway called a type Ia supernova. \n",
        "\n",
        "\n",
        "The following notebook will focus on the thermodynamic quantities in the star and how they effect the explosive nucleosynthesis yields. .\n"
      ],
      "metadata": {
        "id": "f6_9aIOPJ0qY"
      }
    },
    {
      "cell_type": "markdown",
      "source": [
        "<a id='b'></a>\n",
        "##Loading in data \n"
      ],
      "metadata": {
        "id": "ElXzbhqQbpPL"
      }
    },
    {
      "cell_type": "markdown",
      "source": [
        "The following loads in data from osf and imports the necessary python libraries. \n",
        "\n"
      ],
      "metadata": {
        "id": "xjDm_8IAuPla"
      }
    },
    {
      "cell_type": "code",
      "execution_count": null,
      "metadata": {
        "id": "uGlr9mV4ttEb",
        "colab": {
          "base_uri": "https://localhost:8080/"
        },
        "outputId": "598f80b4-825b-4eeb-8710-98a6ae6fd0f8"
      },
      "outputs": [
        {
          "output_type": "stream",
          "name": "stdout",
          "text": [
            "  % Total    % Received % Xferd  Average Speed   Time    Time     Time  Current\n",
            "                                 Dload  Upload   Total   Spent    Left  Speed\n",
            "100   459  100   459    0     0   1330      0 --:--:-- --:--:-- --:--:--  1326\n",
            "100 5203k  100 5203k    0     0  1264k      0  0:00:04  0:00:04 --:--:-- 2129k\n"
          ]
        }
      ],
      "source": [
        "import numpy as np\n",
        "import matplotlib.pyplot as plt\n",
        "import h5py \n",
        "import sys\n",
        "!curl -o out.h5 -J -L https://osf.io/psabg/download\n",
        "f = h5py.File('out.h5','r')"
      ]
    },
    {
      "cell_type": "markdown",
      "source": [
        "<a id='c'></a>\n",
        "##Plotting electron chemical potentials "
      ],
      "metadata": {
        "id": "-OKpZgf2ePAh"
      }
    },
    {
      "cell_type": "markdown",
      "source": [
        "First let's examine how the chemical potential changes as a function of temperature. The electron chemical potential for a gas of a given composition is the free energy cost to add an electron to that gas. Below shows the electron chemical potential for a gas of ionized Hydrogen with a similar density as the center of the Sun. At temperatures similar to that of the center of the sun the gas is non-degenerate, but at lower temperatures the gas becomes highly degenerate. \n",
        "\n",
        "The chemical potential rises again at temperature higher than around $10^9$ K as a result of photons interacting to create electron-positrion pairs. "
      ],
      "metadata": {
        "id": "MbDnp6_K5Dd4"
      }
    },
    {
      "cell_type": "markdown",
      "source": [
        "We first input the parameters for the type of gas we are interested in and the plot parameters. "
      ],
      "metadata": {
        "id": "y8repiSWyNJ-"
      }
    },
    {
      "cell_type": "code",
      "source": [
        "#The following variables describe the same thing throughout the rest of the notebook and can be modified accordingly \n",
        "#for each section \n",
        "\n",
        "group = 'H'  #Composition of the gas of interest\n",
        "rho_index = 76  #Density of the gas of interest\n",
        "\n",
        "#Plot parameters\n",
        "x_low = 1000  \n",
        "x_high = 1e11\n",
        "y_low = -10\n",
        "y_high = 50  \n",
        "n_x_ticks = 9\n",
        "x_label = 'T (K)'\n",
        "y_label = '${\\mu_e}\\prime\\^k_B T$'\n",
        "y_scale = 'linear'\n",
        "bw = False #Decides if the plot will be in black and white or color\n",
        "output_pdf = 'muekT_H_76.pdf' #Title of the pdf that will be generated of your plot"
      ],
      "metadata": {
        "id": "eqTTCqIVb6tY"
      },
      "execution_count": null,
      "outputs": []
    },
    {
      "cell_type": "markdown",
      "source": [
        "We then pull the data we need from the h5 file. This includes the temperature, density, and the thermodynamic quantity."
      ],
      "metadata": {
        "id": "1GRutgUvyUVd"
      }
    },
    {
      "cell_type": "code",
      "source": [
        "t9 = f['T9 and rho/T9'][:]\n",
        "T = t9*1e9\n",
        "rho = f['T9 and rho/rho']\n",
        "\n",
        "#The variable 'prop' describes which thermodynamic quantity of interest you are \n",
        "#plotting. This will already be changed accordingly for each section\n",
        "prop = f[group + '/electron chemical potential in kT']"
      ],
      "metadata": {
        "id": "xSLPlm7pyZ4n"
      },
      "execution_count": null,
      "outputs": []
    },
    {
      "cell_type": "markdown",
      "source": [
        "Finally we plot the data:"
      ],
      "metadata": {
        "id": "YXd5YgQsyvOV"
      }
    },
    {
      "cell_type": "code",
      "source": [
        "#For bw==True the plot will be returned in black and white \n",
        "if bw==True:\n",
        "  plt.plot(T, prop[:,rho_index], color = 'black')\n",
        "else:\n",
        "  plt.plot(T, prop[:,rho_index])\n",
        "\n",
        "plt.xscale('log')\n",
        "plt.yscale(y_scale)\n",
        "plt.xlim([x_low,x_high])\n",
        "plt.ylim([y_low,y_high])\n",
        "\n",
        "plt.xlabel(x_label)\n",
        "plt.ylabel(y_label)\n",
        "plt.savefig(output_pdf)\n",
        "title_str = '$\\\\rho= $ {:.2e} $g/cm^3$'.format(rho[rho_index])\n",
        "plt.title(title_str)"
      ],
      "metadata": {
        "colab": {
          "base_uri": "https://localhost:8080/",
          "height": 320
        },
        "id": "FMwc2WYAyuik",
        "outputId": "67e00cf9-41e4-4cc8-a35c-84cb47aa05c6"
      },
      "execution_count": null,
      "outputs": [
        {
          "output_type": "execute_result",
          "data": {
            "text/plain": [
              "Text(0.5, 1.0, '$\\\\rho= $ 1.57e+02 $g/cm^3$')"
            ]
          },
          "metadata": {},
          "execution_count": 4
        },
        {
          "output_type": "display_data",
          "data": {
            "text/plain": [
              "<Figure size 432x288 with 1 Axes>"
            ],
            "image/png": "[encoded data removed]"
          },
          "metadata": {
            "needs_background": "light"
          }
        }
      ]
    },
    {
      "cell_type": "markdown",
      "source": [
        "Let's now consider a gas of $^{12}$C and $^{16}$O at a density of $1.59\\times 10^9$ $g/cm^3$ (Roughly the conditions of a white dwarf star). The conditions of this gas are never that of a dilute non-relativistic gas. It is highly degenerate for temperature less than 10 billion Kelvin and highly relativistic for temperature that are higher. \n",
        "\n",
        "We again start with defining the parameters of the gas of interest.\n"
      ],
      "metadata": {
        "id": "nXZEx4cQh8uj"
      }
    },
    {
      "cell_type": "code",
      "source": [
        "group = 'C+O'\n",
        "rho_index = 150\n",
        "x_low = 1e7\n",
        "x_high = 1e11\n",
        "y_low = 0\n",
        "y_high = 1000\n",
        "n_x_ticks = 9\n",
        "x_label = 'T (K)'\n",
        "y_label = '${\\mu_e}\\prime\\^k_B T$'\n",
        "y_scale = 'linear'\n",
        "bw = False\n",
        "output_pdf = 'muekT_H_76.pdf'"
      ],
      "metadata": {
        "id": "BYZ6lPb5iNgf"
      },
      "execution_count": null,
      "outputs": []
    },
    {
      "cell_type": "markdown",
      "source": [
        "We then pull the chemical potential for the gas of carbon and oxygen. "
      ],
      "metadata": {
        "id": "uX_Sd4aBzo-s"
      }
    },
    {
      "cell_type": "code",
      "source": [
        "prop = f[group + '/electron chemical potential in kT']"
      ],
      "metadata": {
        "id": "ymWtkxn7zylp"
      },
      "execution_count": null,
      "outputs": []
    },
    {
      "cell_type": "markdown",
      "source": [
        "Finally we plot the data:"
      ],
      "metadata": {
        "id": "bky658djz0Bs"
      }
    },
    {
      "cell_type": "code",
      "source": [
        "if bw==True:\n",
        "  plt.plot(T, prop[:,rho_index], color = 'black')\n",
        "else:\n",
        "  plt.plot(T, prop[:,rho_index])\n",
        "\n",
        "plt.xscale('log')\n",
        "plt.yscale(y_scale)\n",
        "plt.xlim([x_low,x_high])\n",
        "plt.ylim([y_low,y_high])\n",
        "\n",
        "plt.xlabel(x_label)\n",
        "plt.ylabel(y_label)\n",
        "plt.savefig(output_pdf)\n",
        "title_str = '$\\\\rho= $ {:.2e} $g/cm^3$'.format(rho[rho_index])\n",
        "plt.title(title_str)"
      ],
      "metadata": {
        "colab": {
          "base_uri": "https://localhost:8080/",
          "height": 320
        },
        "id": "d6LpRUAWz3df",
        "outputId": "c22f7806-6690-44ac-b980-1145f4cef8d4"
      },
      "execution_count": null,
      "outputs": [
        {
          "output_type": "execute_result",
          "data": {
            "text/plain": [
              "Text(0.5, 1.0, '$\\\\rho= $ 1.59e+09 $g/cm^3$')"
            ]
          },
          "metadata": {},
          "execution_count": 7
        },
        {
          "output_type": "display_data",
          "data": {
            "text/plain": [
              "<Figure size 432x288 with 1 Axes>"
            ],
            "image/png": "[encoded data removed]"
          },
          "metadata": {
            "needs_background": "light"
          }
        }
      ]
    },
    {
      "cell_type": "markdown",
      "source": [
        "<a id='d'></a>\n",
        "##Plotting pressure components\n"
      ],
      "metadata": {
        "id": "r3uak32ilC-a"
      }
    },
    {
      "cell_type": "markdown",
      "source": [
        "The pressure in a star is the force per unit area being exerted by the gas on its surroundings. The following plot is a gas of $^{12}$C and $^{16}$O with the around the pressure expected in a white dwarf. The important feature of this plot is the insensitivity of the pressure to temperature below 10 billion Kelvin. This insensitivity is created by the degenerate conditions discussed in the above section. Under non-degenerate conditions an increase in temperature creates a subsequent increase in pressure, causing the star to expand and cool. In degenerate conditions the insensitivity allows for the star to continue to heat without expanding, which increases the nuclear reaction rate. This process causes the star to rapidly heat to the point in which it is able to expand--this is the mechanism of a thermonuclear runaway. \n"
      ],
      "metadata": {
        "id": "YxsfPYTllN2z"
      }
    },
    {
      "cell_type": "markdown",
      "source": [
        "First, we input the parameters needed to get the data for the pressure components of a gas of carbon and oxygen. "
      ],
      "metadata": {
        "id": "HvFuB7qq0MTU"
      }
    },
    {
      "cell_type": "code",
      "source": [
        "group = 'C+O'\n",
        "thermo_quantity = 'pressure'\n",
        "rho_index = 150\n",
        "x_low = 1e6\n",
        "x_high = 1e11\n",
        "y_low = 1e24\n",
        "y_high = 1e30\n",
        "n_x_ticks = 9\n",
        "x_label = 'T (K)'\n",
        "y_label = 'Pressure (dynes/cm$^2$'\n",
        "bw = False\n",
        "output_pdf = 'pressure_H_components.pdf'\n"
      ],
      "metadata": {
        "id": "88IRz942lLQX"
      },
      "execution_count": null,
      "outputs": []
    },
    {
      "cell_type": "markdown",
      "source": [
        "To get the pressure components for all matter within the star, we need to declare the different species that contribute to the pressure and pull the data for each of them. These are the photons, baryons, and electrons:"
      ],
      "metadata": {
        "id": "03p2vYer0ufI"
      }
    },
    {
      "cell_type": "code",
      "source": [
        "s = ['baryon', 'electron', 'photon', 'total']\n",
        "sl = ['baryons', 'electrons', 'photons', 'total']\n",
        "\n",
        "tq = {} \n",
        "\n",
        "for sq in s:\n",
        "  tq[sq] = f[group + '/' + sq  + ' ' + thermo_quantity]"
      ],
      "metadata": {
        "id": "7_Mwz2ia08bX"
      },
      "execution_count": null,
      "outputs": []
    },
    {
      "cell_type": "markdown",
      "source": [
        "Then we plot the data:"
      ],
      "metadata": {
        "id": "MHUPs67k1PMj"
      }
    },
    {
      "cell_type": "code",
      "source": [
        "linest = ['-.', '--', ':', '-'] #line types for black and white plot \n",
        "\n",
        "for i in range(len(s)):\n",
        "  if bw==True:\n",
        "    plt.plot(T, tq[s[i]][:,rho_index],linest[i], color = 'black', label = sl[i])\n",
        "\n",
        "  else:\n",
        "    plt.plot(T, tq[s[i]][:,rho_index], label = sl[i])\n",
        "\n",
        "plt.xscale('log')\n",
        "plt.yscale('log')\n",
        "\n",
        "plt.xlim([x_low,x_high])\n",
        "plt.ylim([y_low,y_high])\n",
        "\n",
        "plt.xlabel(x_label)\n",
        "plt.ylabel(y_label)\n",
        "plt.savefig(output_pdf)\n",
        "title_str = '$\\\\rho = $ {:.2e} $g/cm^3$'.format(rho[rho_index])\n",
        "plt.title(title_str)\n",
        "plt.legend()"
      ],
      "metadata": {
        "colab": {
          "base_uri": "https://localhost:8080/",
          "height": 320
        },
        "id": "e4n5ko8Z1Qcv",
        "outputId": "8f9a3741-bb92-45b8-a7ab-cb2765827631"
      },
      "execution_count": null,
      "outputs": [
        {
          "output_type": "execute_result",
          "data": {
            "text/plain": [
              "<matplotlib.legend.Legend at 0x7fb7aebce5e0>"
            ]
          },
          "metadata": {},
          "execution_count": 10
        },
        {
          "output_type": "display_data",
          "data": {
            "text/plain": [
              "<Figure size 432x288 with 1 Axes>"
            ],
            "image/png": "[encoded data removed]"
          },
          "metadata": {
            "needs_background": "light"
          }
        }
      ]
    },
    {
      "cell_type": "markdown",
      "source": [
        "<a id='e'></a>\n",
        "##Plot entropy "
      ],
      "metadata": {
        "id": "dZOMdx5S_5Pg"
      }
    },
    {
      "cell_type": "markdown",
      "source": [
        "The entropy per nucleon of a gas can be an easy way to estimate the yields of explosive nucleosynthesis in a gas if the composition of the gas and the temperature are known. There are two general rules of thumb to aid with this analysis. The first is that the entropy per nucleon characterizes the state of the matter present: low entropy per nucleon (less than 1 $k_B$) suggests highly degenerate matter, moderate entropy per nucleon (between 5-50 $k_B$) suggests non-relativistic dilute conditions, finally high entropy per nucleon ($>50 k_B$) suggests relativistic conditions. The second rule of thumb is that for a given entropy, higher temperatures mean a higher number of light particles. The figure below shows the entropy per nucleon of a gas of carbon and oxygen at a density of $1.59 \\times 10^9$ $g/cm^3$ as a function of temperature. \n"
      ],
      "metadata": {
        "id": "U8Cyv-Vho6e5"
      }
    },
    {
      "cell_type": "markdown",
      "source": [
        "First, we declare the parameters for a gas of carbon and oxygen "
      ],
      "metadata": {
        "id": "nnUhzZIa1lfe"
      }
    },
    {
      "cell_type": "code",
      "source": [
        "group = 'C+O'\n",
        "thermo_quantity = 'entropy per nucleon'\n",
        "rho_index = 150\n",
        "x_low = 1e5\n",
        "x_high = 1e11\n",
        "y_low = 1e-2\n",
        "y_high = 1e2\n",
        "n_x_ticks = 9\n",
        "x_label = 'T (K)'\n",
        "y_label = 'Entropy per nucleon ($k_B$)'\n",
        "bw = False\n",
        "output_pdf = 'entropy_H_components_76.pdf'"
      ],
      "metadata": {
        "id": "xCCpIw3B_Zu5"
      },
      "execution_count": null,
      "outputs": []
    },
    {
      "cell_type": "markdown",
      "source": [
        "Then, we pull the entropy data for each of the species:"
      ],
      "metadata": {
        "id": "OTJpq7mZ2VbW"
      }
    },
    {
      "cell_type": "code",
      "source": [
        "tq = {} \n",
        "\n",
        "for sq in s:\n",
        "  tq[sq] = f[group + '/' + sq  + ' ' + thermo_quantity]"
      ],
      "metadata": {
        "id": "1v-jT29J2Z1R"
      },
      "execution_count": null,
      "outputs": []
    },
    {
      "cell_type": "markdown",
      "source": [
        "Finally, we plot the data:"
      ],
      "metadata": {
        "id": "FWTy-AH42iVw"
      }
    },
    {
      "cell_type": "code",
      "source": [
        "for i in range(len(s)):\n",
        "  if bw==True:\n",
        "    plt.plot(T, tq[s[i]][:,rho_index],linest[i], color = 'black', label = sl[i])\n",
        "\n",
        "  else:\n",
        "    plt.plot(T, tq[s[i]][:,rho_index], label = sl[i])\n",
        "\n",
        "plt.xscale('log')\n",
        "plt.yscale('log')\n",
        "\n",
        "plt.xlim([x_low,x_high])\n",
        "plt.ylim([y_low,y_high])\n",
        "\n",
        "plt.xlabel(x_label)\n",
        "plt.ylabel(y_label)\n",
        "plt.savefig(output_pdf)\n",
        "title_str = '$\\\\rho = $ {:.2e} $g/cm^3$'.format(rho[rho_index])\n",
        "plt.title(title_str)\n",
        "plt.legend()"
      ],
      "metadata": {
        "colab": {
          "base_uri": "https://localhost:8080/",
          "height": 320
        },
        "id": "VQgsuTYW2j4L",
        "outputId": "c3224ba9-ab55-418d-f67d-2c2936ecda56"
      },
      "execution_count": null,
      "outputs": [
        {
          "output_type": "execute_result",
          "data": {
            "text/plain": [
              "<matplotlib.legend.Legend at 0x7fb7aea72220>"
            ]
          },
          "metadata": {},
          "execution_count": 13
        },
        {
          "output_type": "display_data",
          "data": {
            "text/plain": [
              "<Figure size 432x288 with 1 Axes>"
            ],
            "image/png": "[encoded data removed]"
          },
          "metadata": {
            "needs_background": "light"
          }
        }
      ]
    }
  ]
}
